{
 "cells": [
  {
   "cell_type": "markdown",
   "metadata": {},
   "source": [
    "Aim of the notebook is to insert rows with zero sales so that it becomes similar to that of test"
   ]
  },
  {
   "cell_type": "code",
   "execution_count": 1,
   "metadata": {
    "_cell_guid": "b1076dfc-b9ad-4769-8c92-a6c4dae69d19",
    "_uuid": "8f2839f25d086af736a60e9eeb907d3b93b6e0e5"
   },
   "outputs": [
    {
     "name": "stdout",
     "output_type": "stream",
     "text": [
      "['items.csv', 'sample_submission.csv', 'test.csv', 'sales_train.csv', 'item_categories.csv', 'shops.csv']\n"
     ]
    }
   ],
   "source": [
    "# This Python 3 environment comes with many helpful analytics libraries installed\n",
    "# It is defined by the kaggle/python docker image: https://github.com/kaggle/docker-python\n",
    "# For example, here's several helpful packages to load in \n",
    "\n",
    "import numpy as np # linear algebra\n",
    "import pandas as pd # data processing, CSV file I/O (e.g. pd.read_csv)\n",
    "\n",
    "# Input data files are available in the \"../input/\" directory.\n",
    "# For example, running this (by clicking run or pressing Shift+Enter) will list the files in the input directory\n",
    "\n",
    "import os\n",
    "print(os.listdir(\"../input\"))\n",
    "\n",
    "# Any results you write to the current directory are saved as output."
   ]
  },
  {
   "cell_type": "code",
   "execution_count": 2,
   "metadata": {
    "_cell_guid": "79c7e3d0-c299-4dcb-8224-4455121ee9b0",
    "_uuid": "d629ff2d2480ee46fbb7e2d37f6b5fab8052498a"
   },
   "outputs": [],
   "source": [
    "import calendar\n",
    "import pandas as pd\n",
    "import numpy as np\n",
    "\n",
    "\n",
    "def zero_padded_str(num):\n",
    "    num = int(num)\n",
    "    return str(num) if num >= 10 else '0{}'.format(num)\n",
    "\n",
    "\n",
    "def date_str(year, month, day):\n",
    "    return '{day}.{month}.{year}'.format(year=year, month=zero_padded_str(month), day=zero_padded_str(day))\n",
    "\n",
    "\n",
    "def date_str_from_dbn(date_block_num, day):\n",
    "    year = int(date_block_num // 12 + 2013)\n",
    "    month = date_block_num % 12 + 1\n",
    "    return date_str(year, month, day)\n",
    "\n",
    "\n",
    "def get_new_item_shop_ids(item_ids, shop_ids, size, existing_item_shop_ids):\n",
    "    new_item_shop_ids = {}\n",
    "    num_times = 0\n",
    "    while len(new_item_shop_ids) == 0 or num_times < 5:\n",
    "        num_times += 1\n",
    "        item_ids = np.random.choice(item_ids, size=size)\n",
    "        shop_ids = np.random.choice(shop_ids, size=size)\n",
    "        item_shop_ids = item_ids * 100 + shop_ids\n",
    "        new_item_shop_ids = list(set(item_shop_ids) - set(existing_item_shop_ids))\n",
    "    return item_shop_ids[np.isin(item_shop_ids, new_item_shop_ids)]\n",
    "\n",
    "\n",
    "def shrink_train_data(train_df, aggregate_days):\n",
    "    \"\"\"\n",
    "    Args:\n",
    "        aggregate_days: number of days for which we will create an aggregated single entry for each item_id,shop_id.\n",
    "        This is the factor by which train_df's size will reduce.\n",
    "    \"\"\"\n",
    "    train_df['date_f'] = pd.to_datetime(train_df['date'], format='%d.%m.%Y')\n",
    "    train_df['day'] = train_df['date_f'].apply(lambda x: x.day)\n",
    "    train_df['day_agg'] = train_df['day'] // aggregate_days + 1\n",
    "\n",
    "    train_df.index.name = 'index'\n",
    "    train_df = train_df.reset_index()\n",
    "    output_df = train_df.groupby(['item_id', 'shop_id', 'date_block_num',\n",
    "                                  'day_agg'])[['item_price', 'item_cnt_day', 'index']].agg({\n",
    "                                      'item_price': 'mean',\n",
    "                                      'item_cnt_day': 'sum',\n",
    "                                      'index': 'last',\n",
    "                                  })\n",
    "    output_df = output_df.reset_index().set_index('index')\n",
    "    output_df['date'] = output_df.apply(lambda row: date_str_from_dbn(row['date_block_num'], row['day_agg']), axis=1)\n",
    "\n",
    "    return output_df.drop('day_agg', axis=1).sort_index()\n",
    "\n",
    "\n",
    "def make_train_have_similar_zeroed_entries_as_test(train_df, train_y_zero_count, train_y_nonzero_count,\n",
    "                                                   test_zero_fraction):\n",
    "    \"\"\"\n",
    "    for every month do the following:\n",
    "        get list of active products\n",
    "        get list of active shops\n",
    "        find how many rows to insert.\n",
    "        for each row:\n",
    "            sample a product and a shop, select an available date. add an entry.\n",
    "\n",
    "        ensure that index of these zeroed elements are greater than max index of train. concatenate and save.\n",
    "    \"\"\"\n",
    "    dtypes = {\n",
    "        'date_block_num': np.uint8,\n",
    "        'shop_id': np.int32,\n",
    "        'item_id': np.int32,\n",
    "        'item_price': np.float32,\n",
    "        'item_cnt_day': np.float32,\n",
    "    }\n",
    "\n",
    "    train_df['item_shop_id'] = train_df['item_id'] * 100 + train_df['shop_id']\n",
    "    train_df['date_f'] = pd.to_datetime(train_df['date'], format='%d.%m.%Y')\n",
    "    train_df['day'] = train_df['date_f'].apply(lambda x: x.day)\n",
    "\n",
    "    date_block_num = train_df.date_block_num.unique().tolist()\n",
    "    date_block_num.sort()\n",
    "    # We don't want to add zero rows in the first month as i fear there could be issues.\n",
    "    date_block_num.remove(0)\n",
    "\n",
    "    zero_rows_required = test_zero_fraction * train_y_nonzero_count - train_y_zero_count\n",
    "\n",
    "    final_expected_columns = ['date', 'date_block_num', 'shop_id', 'item_id', 'item_price', 'item_cnt_day']\n",
    "\n",
    "    rows_per_dbn = zero_rows_required // len(date_block_num)\n",
    "\n",
    "    active_item_ids = {}\n",
    "    data = []\n",
    "    for dbn in date_block_num:\n",
    "        month = dbn % 12 + 1\n",
    "        year = dbn // 12 + 2013\n",
    "        unique_days = train_df[train_df.date_block_num == dbn].day.unique()\n",
    "        num_days = len(unique_days)\n",
    "        print('Days with entries', unique_days, 'Total num days in a month', num_days)\n",
    "\n",
    "        existing_item_shop_ids = set(train_df[train_df.date_block_num == dbn].item_shop_id.values)\n",
    "        filtr = (train_df.date_block_num == dbn) | (train_df.date_block_num == dbn - 1)\n",
    "        cur_df = train_df[filtr]\n",
    "        median_price = cur_df.groupby('item_id')['item_price'].quantile(0.5)\n",
    "\n",
    "        active_item_ids = list(set(cur_df.item_id.unique()))\n",
    "        active_shop_ids = list(set(cur_df.shop_id.unique()))\n",
    "\n",
    "        data_dbn_df = pd.DataFrame([], columns=final_expected_columns)\n",
    "        num_times = 0\n",
    "        while data_dbn_df.shape[0] != rows_per_dbn and num_times < 5:\n",
    "            num_times += 1\n",
    "            new_item_shop_ids = get_new_item_shop_ids(active_item_ids, active_shop_ids, int(1.1 * rows_per_dbn),\n",
    "                                                      existing_item_shop_ids)\n",
    "            if len(new_item_shop_ids) == 0:\n",
    "                print('No new item,shop could be found. continuing to next month')\n",
    "                break\n",
    "\n",
    "            # print('got new item_shops')\n",
    "            cur_zero_df = pd.DataFrame(new_item_shop_ids.reshape(-1, 1), columns=['item_shop_id'])\n",
    "            data_dbn_df = pd.concat([data_dbn_df, cur_zero_df], axis=0, sort=True)\n",
    "            data_dbn_df['num_occurances'] = data_dbn_df.groupby('item_shop_id').cumcount() + 1\n",
    "\n",
    "            # print('Num occurances created')\n",
    "            data_dbn_df = data_dbn_df[data_dbn_df['num_occurances'] <= num_days]\n",
    "            data_dbn_df = data_dbn_df.iloc[:rows_per_dbn]\n",
    "            print('DBN:', dbn, round(data_dbn_df.shape[0] / rows_per_dbn * 100, 2), '% done')\n",
    "\n",
    "        data_dbn_df['item_id'] = data_dbn_df['item_shop_id'] // 100\n",
    "        data_dbn_df['shop_id'] = data_dbn_df['item_shop_id'] % 100\n",
    "\n",
    "        data_dbn_df['date'] = data_dbn_df['num_occurances'].apply(lambda x: date_str(year, month, x))\n",
    "        data_dbn_df['date_block_num'] = dbn\n",
    "        data_dbn_df['item_cnt_day'] = 0\n",
    "        data_dbn_df['item_price'] = data_dbn_df['item_id'].map(median_price)\n",
    "        data_dbn_df.drop(['num_occurances'], axis=1, inplace=True)\n",
    "\n",
    "        assert set(final_expected_columns).issubset(set(data_dbn_df.columns))\n",
    "        assert data_dbn_df.isna().values.sum() == 0\n",
    "\n",
    "        data_dbn_df = data_dbn_df.astype(dtypes)\n",
    "        data.append(data_dbn_df)\n",
    "\n",
    "    zeros_data_df = pd.concat(data)\n",
    "\n",
    "    zeros_data_df = zeros_data_df.reset_index()[final_expected_columns]\n",
    "    zeros_data_df.index += train_df.index.max() + 1\n",
    "\n",
    "    train_df.drop(['date_f', 'day'], axis=1, inplace=True)\n",
    "    new_train_df = pd.concat([train_df, zeros_data_df], sort=True).drop('item_shop_id', axis=1)\n",
    "\n",
    "    assert new_train_df.isna().any().any() == False\n",
    "\n",
    "    new_train_df = new_train_df.astype(dtypes)\n",
    "\n",
    "    # ensuring the ordering.\n",
    "    train_df.drop('item_shop_id', inplace=True, axis=1)\n",
    "    new_train_df = new_train_df[train_df.columns]\n",
    "\n",
    "    print(new_train_df.tail())\n",
    "    return new_train_df\n",
    "\n",
    "\n",
    "# if __name__ == '__main__':\n",
    "#     df = pd.read_csv('data/sales_train.csv')\n",
    "#     monthly_sales = df.groupby(['date_block_num', 'item_id', 'shop_id'])['item_cnt_day'].sum()\n",
    "\n",
    "#     s_df = shrink_train_data(df, 6)\n",
    "#     monthly_sales_s = s_df.groupby(['date_block_num', 'item_id', 'shop_id'])['item_cnt_day'].sum()\n",
    "#     assert monthly_sales_s.equals(monthly_sales)\n",
    "\n",
    "#     zero_fraction = 6\n",
    "#     output_df = make_train_have_similar_zeroed_entries_as_test(s_df, (monthly_sales > 0).sum(), df.shape[0],\n",
    "#                                                                zero_fraction)\n",
    "\n",
    "#     monthly_sales_after = output_df.groupby(['date_block_num', 'item_id', 'shop_id'])['item_cnt_day'].sum()\n",
    "#     print('Aiming for fraction to be ', zero_fraction)\n",
    "#     print('Original zero fraction',\n",
    "#           monthly_sales[monthly_sales <= 0].shape[0] / monthly_sales[monthly_sales > 0].shape[0])\n",
    "#     print(\n",
    "#         'New Zero fraction',\n",
    "#         monthly_sales_after[monthly_sales_after <= 0].shape[0] / monthly_sales_after[monthly_sales_after > 0].shape[0])\n"
   ]
  },
  {
   "cell_type": "code",
   "execution_count": 3,
   "metadata": {},
   "outputs": [
    {
     "name": "stdout",
     "output_type": "stream",
     "text": [
      "Original size: 2935K\n",
      "Shrinked size: 1609K\n",
      "Days with entries [1] Total num days in a month 1\n",
      "DBN: 1 72.04 % done\n",
      "DBN: 1 100.0 % done\n",
      "Days with entries [1] Total num days in a month 1\n",
      "DBN: 2 72.92 % done\n",
      "DBN: 2 100.0 % done\n",
      "Days with entries [1] Total num days in a month 1\n",
      "DBN: 3 73.47 % done\n",
      "DBN: 3 100.0 % done\n",
      "Days with entries [1] Total num days in a month 1\n",
      "DBN: 4 74.53 % done\n",
      "DBN: 4 100.0 % done\n",
      "Days with entries [1] Total num days in a month 1\n",
      "DBN: 5 74.1 % done\n",
      "DBN: 5 100.0 % done\n",
      "Days with entries [1] Total num days in a month 1\n",
      "DBN: 6 73.56 % done\n",
      "DBN: 6 100.0 % done\n",
      "Days with entries [1] Total num days in a month 1\n",
      "DBN: 7 73.5 % done\n",
      "DBN: 7 100.0 % done\n",
      "Days with entries [1] Total num days in a month 1\n",
      "DBN: 8 73.06 % done\n",
      "DBN: 8 100.0 % done\n",
      "Days with entries [1] Total num days in a month 1\n",
      "DBN: 9 73.99 % done\n",
      "DBN: 9 100.0 % done\n",
      "Days with entries [1] Total num days in a month 1\n",
      "DBN: 10 74.53 % done\n",
      "DBN: 10 100.0 % done\n",
      "Days with entries [1] Total num days in a month 1\n",
      "DBN: 11 72.47 % done\n",
      "DBN: 11 100.0 % done\n",
      "Days with entries [1] Total num days in a month 1\n",
      "DBN: 12 74.06 % done\n",
      "DBN: 12 100.0 % done\n",
      "Days with entries [1] Total num days in a month 1\n",
      "DBN: 13 73.34 % done\n",
      "DBN: 13 100.0 % done\n",
      "Days with entries [1] Total num days in a month 1\n",
      "DBN: 14 73.34 % done\n",
      "DBN: 14 100.0 % done\n",
      "Days with entries [1] Total num days in a month 1\n",
      "DBN: 15 74.35 % done\n",
      "DBN: 15 100.0 % done\n",
      "Days with entries [1] Total num days in a month 1\n",
      "DBN: 16 73.25 % done\n",
      "DBN: 16 100.0 % done\n",
      "Days with entries [1] Total num days in a month 1\n",
      "DBN: 17 72.68 % done\n",
      "DBN: 17 100.0 % done\n",
      "Days with entries [1] Total num days in a month 1\n",
      "DBN: 18 73.44 % done\n",
      "DBN: 18 100.0 % done\n",
      "Days with entries [1] Total num days in a month 1\n",
      "DBN: 19 72.9 % done\n",
      "DBN: 19 100.0 % done\n",
      "Days with entries [1] Total num days in a month 1\n",
      "DBN: 20 73.13 % done\n",
      "DBN: 20 100.0 % done\n",
      "Days with entries [1] Total num days in a month 1\n",
      "DBN: 21 73.48 % done\n",
      "DBN: 21 100.0 % done\n",
      "Days with entries [1] Total num days in a month 1\n",
      "DBN: 22 73.25 % done\n",
      "DBN: 22 100.0 % done\n",
      "Days with entries [1] Total num days in a month 1\n",
      "DBN: 23 69.7 % done\n",
      "DBN: 23 100.0 % done\n",
      "Days with entries [1] Total num days in a month 1\n",
      "DBN: 24 71.39 % done\n",
      "DBN: 24 100.0 % done\n",
      "Days with entries [1] Total num days in a month 1\n",
      "DBN: 25 72.37 % done\n",
      "DBN: 25 100.0 % done\n",
      "Days with entries [1] Total num days in a month 1\n",
      "DBN: 26 70.67 % done\n",
      "DBN: 26 100.0 % done\n",
      "Days with entries [1] Total num days in a month 1\n",
      "DBN: 27 70.75 % done\n",
      "DBN: 27 100.0 % done\n",
      "Days with entries [1] Total num days in a month 1\n",
      "DBN: 28 68.94 % done\n",
      "DBN: 28 100.0 % done\n",
      "Days with entries [1] Total num days in a month 1\n",
      "DBN: 29 66.2 % done\n",
      "DBN: 29 97.89 % done\n",
      "DBN: 29 100.0 % done\n",
      "Days with entries [1] Total num days in a month 1\n",
      "DBN: 30 64.64 % done\n",
      "DBN: 30 95.28 % done\n",
      "DBN: 30 100.0 % done\n",
      "Days with entries [1] Total num days in a month 1\n",
      "DBN: 31 64.75 % done\n",
      "DBN: 31 95.11 % done\n",
      "DBN: 31 100.0 % done\n",
      "Days with entries [1] Total num days in a month 1\n",
      "DBN: 32 65.01 % done\n",
      "DBN: 32 95.01 % done\n",
      "DBN: 32 100.0 % done\n",
      "Days with entries [1] Total num days in a month 1\n",
      "DBN: 33 68.03 % done\n",
      "DBN: 33 100.0 % done\n",
      "         item_id  shop_id     ...      item_cnt_day        date\n",
      "9375827    12316       10     ...               0.0  01.10.2015\n",
      "9375828     2881       55     ...               0.0  01.10.2015\n",
      "9375829    13531       38     ...               0.0  01.10.2015\n",
      "9375830    16674        7     ...               0.0  01.10.2015\n",
      "9375831    14264       52     ...               0.0  01.10.2015\n",
      "\n",
      "[5 rows x 6 columns]\n",
      "Aiming for fraction to be  5\n",
      "Original zero fraction 0.0021785895345491414\n",
      "New Zero fraction 4.013064686296809\n"
     ]
    }
   ],
   "source": [
    "\n",
    "df = pd.read_csv('../input/sales_train.csv')\n",
    "df_shrinked = shrink_train_data(df, 32)\n",
    "print('Original size:', '{}K'.format(df.shape[0]//1000))\n",
    "print('Shrinked size:', '{}K'.format(df_shrinked.shape[0]//1000))\n",
    "df = df_shrinked\n",
    "\n",
    "monthly_sales = df.groupby(['date_block_num', 'item_id', 'shop_id'])['item_cnt_day'].sum()\n",
    "zero_fraction = 5\n",
    "output_df = make_train_have_similar_zeroed_entries_as_test(df, (monthly_sales > 0).sum(), df.shape[0],\n",
    "                                                           zero_fraction)\n",
    "\n",
    "monthly_sales_after = output_df.groupby(['date_block_num', 'item_id', 'shop_id'])['item_cnt_day'].sum()\n",
    "print('Aiming for fraction to be ', zero_fraction)\n",
    "print('Original zero fraction',\n",
    "      monthly_sales[monthly_sales <= 0].shape[0] / monthly_sales[monthly_sales > 0].shape[0])\n",
    "print(\n",
    "    'New Zero fraction',\n",
    "    monthly_sales_after[monthly_sales_after <= 0].shape[0] / monthly_sales_after[monthly_sales_after > 0].shape[0])\n"
   ]
  },
  {
   "cell_type": "code",
   "execution_count": 4,
   "metadata": {},
   "outputs": [
    {
     "data": {
      "text/plain": [
       "(8049107, 6)"
      ]
     },
     "execution_count": 4,
     "metadata": {},
     "output_type": "execute_result"
    }
   ],
   "source": [
    "output_df.shape"
   ]
  },
  {
   "cell_type": "code",
   "execution_count": 5,
   "metadata": {},
   "outputs": [
    {
     "name": "stderr",
     "output_type": "stream",
     "text": [
      "/opt/conda/lib/python3.6/site-packages/pandas/core/indexing.py:543: SettingWithCopyWarning: \n",
      "A value is trying to be set on a copy of a slice from a DataFrame.\n",
      "Try using .loc[row_indexer,col_indexer] = value instead\n",
      "\n",
      "See the caveats in the documentation: http://pandas.pydata.org/pandas-docs/stable/indexing.html#indexing-view-versus-copy\n",
      "  self.obj[item] = s\n"
     ]
    }
   ],
   "source": [
    "y  = output_df[['date_block_num','item_cnt_day']]\n",
    "y.loc[y.item_cnt_day >20,'item_cnt_day'] = 20\n",
    "y.loc[y.item_cnt_day < 0,'item_cnt_day'] = 0"
   ]
  },
  {
   "cell_type": "code",
   "execution_count": 6,
   "metadata": {},
   "outputs": [
    {
     "data": {
      "text/plain": [
       "0.4043859839439392"
      ]
     },
     "execution_count": 6,
     "metadata": {},
     "output_type": "execute_result"
    }
   ],
   "source": [
    "y['item_cnt_day'].mean()"
   ]
  },
  {
   "cell_type": "code",
   "execution_count": 7,
   "metadata": {},
   "outputs": [
    {
     "data": {
      "text/plain": [
       "0.26552724838256836"
      ]
     },
     "execution_count": 7,
     "metadata": {},
     "output_type": "execute_result"
    }
   ],
   "source": [
    "y[y.date_block_num >26]['item_cnt_day'].mean()"
   ]
  },
  {
   "cell_type": "code",
   "execution_count": 8,
   "metadata": {},
   "outputs": [
    {
     "data": {
      "text/plain": [
       "True"
      ]
     },
     "execution_count": 8,
     "metadata": {},
     "output_type": "execute_result"
    }
   ],
   "source": [
    "a = output_df.loc[df.index]\n",
    "b = df.astype(output_df.dtypes)\n",
    "a.equals(b)"
   ]
  },
  {
   "cell_type": "code",
   "execution_count": 9,
   "metadata": {},
   "outputs": [],
   "source": [
    "output_df.to_hdf('train_with_zero.hdf', 'df')"
   ]
  },
  {
   "cell_type": "code",
   "execution_count": 10,
   "metadata": {},
   "outputs": [],
   "source": [
    "zero_entries = output_df[output_df.item_cnt_day == 0]"
   ]
  },
  {
   "cell_type": "code",
   "execution_count": 11,
   "metadata": {},
   "outputs": [
    {
     "data": {
      "text/plain": [
       "(8049107, 6)"
      ]
     },
     "execution_count": 11,
     "metadata": {},
     "output_type": "execute_result"
    }
   ],
   "source": [
    "output_df.shape"
   ]
  },
  {
   "cell_type": "code",
   "execution_count": 12,
   "metadata": {},
   "outputs": [
    {
     "data": {
      "text/plain": [
       "(6442566, 6)"
      ]
     },
     "execution_count": 12,
     "metadata": {},
     "output_type": "execute_result"
    }
   ],
   "source": [
    "zero_entries.shape"
   ]
  },
  {
   "cell_type": "code",
   "execution_count": 13,
   "metadata": {},
   "outputs": [],
   "source": []
  }
 ],
 "metadata": {
  "kernelspec": {
   "display_name": "Python 3",
   "language": "python",
   "name": "python3"
  },
  "language_info": {
   "codemirror_mode": {
    "name": "ipython",
    "version": 3
   },
   "file_extension": ".py",
   "mimetype": "text/x-python",
   "name": "python",
   "nbconvert_exporter": "python",
   "pygments_lexer": "ipython3",
   "version": "3.6.4"
  }
 },
 "nbformat": 4,
 "nbformat_minor": 1
}
